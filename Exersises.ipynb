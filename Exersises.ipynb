{
 "cells": [
  {
   "cell_type": "code",
   "execution_count": 5,
   "id": "7f294c05",
   "metadata": {},
   "outputs": [],
   "source": [
    "import unicodecsv"
   ]
  },
  {
   "cell_type": "code",
   "execution_count": 6,
   "id": "f54061b7",
   "metadata": {},
   "outputs": [],
   "source": [
    "def read_csv(filename):\n",
    "    with open(filename, 'rb') as f:\n",
    "        reader = unicodecsv.DictReader(f)\n",
    "        return list(reader)"
   ]
  },
  {
   "cell_type": "code",
   "execution_count": 7,
   "id": "013aaed8",
   "metadata": {},
   "outputs": [],
   "source": [
    "enrollments = read_csv('enrollments.csv')"
   ]
  },
  {
   "cell_type": "code",
   "execution_count": 8,
   "id": "521fb1dc",
   "metadata": {},
   "outputs": [],
   "source": [
    "daily_engagement = read_csv('daily_engagement.csv')"
   ]
  },
  {
   "cell_type": "code",
   "execution_count": 9,
   "id": "125ca94b",
   "metadata": {},
   "outputs": [],
   "source": [
    "project_submissions = read_csv('project_submissions.csv')"
   ]
  },
  {
   "cell_type": "code",
   "execution_count": 10,
   "id": "00bf743f",
   "metadata": {},
   "outputs": [
    {
     "data": {
      "text/plain": [
       "{'account_key': '448',\n",
       " 'status': 'canceled',\n",
       " 'join_date': '2014-11-10',\n",
       " 'cancel_date': '2015-01-14',\n",
       " 'days_to_cancel': '65',\n",
       " 'is_udacity': 'True',\n",
       " 'is_canceled': 'True'}"
      ]
     },
     "execution_count": 10,
     "metadata": {},
     "output_type": "execute_result"
    }
   ],
   "source": [
    "enrollments[0]"
   ]
  },
  {
   "cell_type": "code",
   "execution_count": 11,
   "id": "85c58fa4",
   "metadata": {},
   "outputs": [
    {
     "data": {
      "text/plain": [
       "{'account_key': '448',\n",
       " 'status': 'canceled',\n",
       " 'join_date': datetime.datetime(2014, 11, 10, 0, 0),\n",
       " 'cancel_date': datetime.datetime(2015, 1, 14, 0, 0),\n",
       " 'days_to_cancel': 65,\n",
       " 'is_udacity': True,\n",
       " 'is_canceled': True}"
      ]
     },
     "execution_count": 11,
     "metadata": {},
     "output_type": "execute_result"
    }
   ],
   "source": [
    "from datetime import datetime as dt\n",
    "\n",
    "# Takes a date as a string, and returns a Python datetime object. \n",
    "# If there is no date given, returns None\n",
    "def parse_date(date):\n",
    "    if date == '':\n",
    "        return None\n",
    "    else:\n",
    "        return dt.strptime(date, '%Y-%m-%d')\n",
    "    \n",
    "# Takes a string which is either an empty string or represents an integer,\n",
    "# and returns an int or None.\n",
    "def parse_maybe_int(i):\n",
    "    if i == '':\n",
    "        return None\n",
    "    else:\n",
    "        return int(i)\n",
    "\n",
    "# Clean up the data types in the enrollments table\n",
    "for enrollment in enrollments:\n",
    "    enrollment['cancel_date'] = parse_date(enrollment['cancel_date'])\n",
    "    enrollment['days_to_cancel'] = parse_maybe_int(enrollment['days_to_cancel'])\n",
    "    enrollment['is_canceled'] = enrollment['is_canceled'] == 'True'\n",
    "    enrollment['is_udacity'] = enrollment['is_udacity'] == 'True'\n",
    "    enrollment['join_date'] = parse_date(enrollment['join_date'])\n",
    "    \n",
    "enrollments[0]"
   ]
  },
  {
   "cell_type": "code",
   "execution_count": 12,
   "id": "010bd8a4",
   "metadata": {},
   "outputs": [
    {
     "data": {
      "text/plain": [
       "{'acct': '0',\n",
       " 'utc_date': datetime.datetime(2015, 1, 9, 0, 0),\n",
       " 'num_courses_visited': 1,\n",
       " 'total_minutes_visited': 11.6793745,\n",
       " 'lessons_completed': 0,\n",
       " 'projects_completed': 0}"
      ]
     },
     "execution_count": 12,
     "metadata": {},
     "output_type": "execute_result"
    }
   ],
   "source": [
    "# Clean up the data types in the engagement table\n",
    "for engagement_record in daily_engagement:\n",
    "    engagement_record['lessons_completed'] = int(float(engagement_record['lessons_completed']))\n",
    "    engagement_record['num_courses_visited'] = int(float(engagement_record['num_courses_visited']))\n",
    "    engagement_record['projects_completed'] = int(float(engagement_record['projects_completed']))\n",
    "    engagement_record['total_minutes_visited'] = float(engagement_record['total_minutes_visited'])\n",
    "    engagement_record['utc_date'] = parse_date(engagement_record['utc_date'])\n",
    "    \n",
    "daily_engagement[0]"
   ]
  },
  {
   "cell_type": "code",
   "execution_count": 13,
   "id": "fb5d1e41",
   "metadata": {},
   "outputs": [
    {
     "data": {
      "text/plain": [
       "{'creation_date': datetime.datetime(2015, 1, 14, 0, 0),\n",
       " 'completion_date': datetime.datetime(2015, 1, 16, 0, 0),\n",
       " 'assigned_rating': 'UNGRADED',\n",
       " 'account_key': '256',\n",
       " 'lesson_key': '3176718735',\n",
       " 'processing_state': 'EVALUATED'}"
      ]
     },
     "execution_count": 13,
     "metadata": {},
     "output_type": "execute_result"
    }
   ],
   "source": [
    "# Clean up the data types in the submissions table\n",
    "for submission in project_submissions:\n",
    "    submission['completion_date'] = parse_date(submission['completion_date'])\n",
    "    submission['creation_date'] = parse_date(submission['creation_date'])\n",
    "\n",
    "project_submissions[0]"
   ]
  },
  {
   "cell_type": "code",
   "execution_count": 14,
   "id": "7d58e8e5",
   "metadata": {},
   "outputs": [
    {
     "data": {
      "text/plain": [
       "1640"
      ]
     },
     "execution_count": 14,
     "metadata": {},
     "output_type": "execute_result"
    }
   ],
   "source": [
    "len(enrollments)"
   ]
  },
  {
   "cell_type": "code",
   "execution_count": 15,
   "id": "391eb567",
   "metadata": {},
   "outputs": [
    {
     "data": {
      "text/plain": [
       "1302"
      ]
     },
     "execution_count": 15,
     "metadata": {},
     "output_type": "execute_result"
    }
   ],
   "source": [
    "unique_enrolled_students = set()\n",
    "for enrollment in enrollments:\n",
    "    unique_enrolled_students.add(enrollment['account_key'])\n",
    "len(unique_enrolled_students)"
   ]
  },
  {
   "cell_type": "code",
   "execution_count": 16,
   "id": "b251b5f1",
   "metadata": {},
   "outputs": [
    {
     "data": {
      "text/plain": [
       "136240"
      ]
     },
     "execution_count": 16,
     "metadata": {},
     "output_type": "execute_result"
    }
   ],
   "source": [
    "len(daily_engagement)"
   ]
  },
  {
   "cell_type": "code",
   "execution_count": 17,
   "id": "585c71bb",
   "metadata": {},
   "outputs": [
    {
     "data": {
      "text/plain": [
       "1237"
      ]
     },
     "execution_count": 17,
     "metadata": {},
     "output_type": "execute_result"
    }
   ],
   "source": [
    "unique_engagement_students = set()\n",
    "for engagement_record in daily_engagement:\n",
    "    unique_engagement_students.add(engagement_record['acct'])\n",
    "len(unique_engagement_students)"
   ]
  },
  {
   "cell_type": "code",
   "execution_count": 18,
   "id": "aae4c205",
   "metadata": {},
   "outputs": [
    {
     "data": {
      "text/plain": [
       "3642"
      ]
     },
     "execution_count": 18,
     "metadata": {},
     "output_type": "execute_result"
    }
   ],
   "source": [
    "len(project_submissions)"
   ]
  },
  {
   "cell_type": "code",
   "execution_count": 19,
   "id": "9a7c1dc9",
   "metadata": {},
   "outputs": [
    {
     "data": {
      "text/plain": [
       "743"
      ]
     },
     "execution_count": 19,
     "metadata": {},
     "output_type": "execute_result"
    }
   ],
   "source": [
    "unique_project_submitters = set()\n",
    "for submission in project_submissions:\n",
    "    unique_project_submitters.add(submission['account_key'])\n",
    "len(unique_project_submitters)"
   ]
  },
  {
   "cell_type": "code",
   "execution_count": 20,
   "id": "cc1312a8",
   "metadata": {},
   "outputs": [],
   "source": [
    "for engagement_record in daily_engagement:\n",
    "    engagement_record['account_key'] = engagement_record['acct']\n",
    "    del[engagement_record['acct']]"
   ]
  },
  {
   "cell_type": "code",
   "execution_count": 21,
   "id": "87c11603",
   "metadata": {},
   "outputs": [
    {
     "data": {
      "text/plain": [
       "'0'"
      ]
     },
     "execution_count": 21,
     "metadata": {},
     "output_type": "execute_result"
    }
   ],
   "source": [
    "daily_engagement[0]['account_key']"
   ]
  },
  {
   "cell_type": "code",
   "execution_count": 22,
   "id": "87fd4d8b",
   "metadata": {},
   "outputs": [
    {
     "name": "stdout",
     "output_type": "stream",
     "text": [
      "{'account_key': '1219', 'status': 'canceled', 'join_date': datetime.datetime(2014, 11, 12, 0, 0), 'cancel_date': datetime.datetime(2014, 11, 12, 0, 0), 'days_to_cancel': 0, 'is_udacity': False, 'is_canceled': True}\n",
      "{'account_key': '871', 'status': 'canceled', 'join_date': datetime.datetime(2014, 11, 13, 0, 0), 'cancel_date': datetime.datetime(2014, 11, 13, 0, 0), 'days_to_cancel': 0, 'is_udacity': False, 'is_canceled': True}\n",
      "{'account_key': '1218', 'status': 'canceled', 'join_date': datetime.datetime(2014, 11, 15, 0, 0), 'cancel_date': datetime.datetime(2014, 11, 15, 0, 0), 'days_to_cancel': 0, 'is_udacity': False, 'is_canceled': True}\n",
      "{'account_key': '654', 'status': 'canceled', 'join_date': datetime.datetime(2014, 12, 4, 0, 0), 'cancel_date': datetime.datetime(2014, 12, 4, 0, 0), 'days_to_cancel': 0, 'is_udacity': False, 'is_canceled': True}\n",
      "{'account_key': '654', 'status': 'canceled', 'join_date': datetime.datetime(2014, 12, 4, 0, 0), 'cancel_date': datetime.datetime(2014, 12, 4, 0, 0), 'days_to_cancel': 0, 'is_udacity': False, 'is_canceled': True}\n",
      "{'account_key': '654', 'status': 'canceled', 'join_date': datetime.datetime(2014, 12, 3, 0, 0), 'cancel_date': datetime.datetime(2014, 12, 3, 0, 0), 'days_to_cancel': 0, 'is_udacity': False, 'is_canceled': True}\n",
      "{'account_key': '964', 'status': 'canceled', 'join_date': datetime.datetime(2014, 12, 4, 0, 0), 'cancel_date': datetime.datetime(2014, 12, 4, 0, 0), 'days_to_cancel': 0, 'is_udacity': False, 'is_canceled': True}\n",
      "{'account_key': '817', 'status': 'canceled', 'join_date': datetime.datetime(2014, 12, 9, 0, 0), 'cancel_date': datetime.datetime(2014, 12, 9, 0, 0), 'days_to_cancel': 0, 'is_udacity': False, 'is_canceled': True}\n",
      "{'account_key': '1171', 'status': 'canceled', 'join_date': datetime.datetime(2015, 1, 7, 0, 0), 'cancel_date': datetime.datetime(2015, 1, 7, 0, 0), 'days_to_cancel': 0, 'is_udacity': False, 'is_canceled': True}\n",
      "{'account_key': '884', 'status': 'canceled', 'join_date': datetime.datetime(2015, 1, 8, 0, 0), 'cancel_date': datetime.datetime(2015, 1, 8, 0, 0), 'days_to_cancel': 0, 'is_udacity': False, 'is_canceled': True}\n",
      "{'account_key': '875', 'status': 'canceled', 'join_date': datetime.datetime(2014, 11, 17, 0, 0), 'cancel_date': datetime.datetime(2014, 11, 17, 0, 0), 'days_to_cancel': 0, 'is_udacity': False, 'is_canceled': True}\n",
      "{'account_key': '1120', 'status': 'canceled', 'join_date': datetime.datetime(2014, 12, 4, 0, 0), 'cancel_date': datetime.datetime(2014, 12, 4, 0, 0), 'days_to_cancel': 0, 'is_udacity': False, 'is_canceled': True}\n",
      "{'account_key': '728', 'status': 'canceled', 'join_date': datetime.datetime(2014, 12, 5, 0, 0), 'cancel_date': datetime.datetime(2014, 12, 5, 0, 0), 'days_to_cancel': 0, 'is_udacity': False, 'is_canceled': True}\n",
      "{'account_key': '1191', 'status': 'canceled', 'join_date': datetime.datetime(2015, 1, 11, 0, 0), 'cancel_date': datetime.datetime(2015, 1, 11, 0, 0), 'days_to_cancel': 0, 'is_udacity': False, 'is_canceled': True}\n",
      "{'account_key': '1304', 'status': 'canceled', 'join_date': datetime.datetime(2015, 1, 10, 0, 0), 'cancel_date': datetime.datetime(2015, 3, 10, 0, 0), 'days_to_cancel': 59, 'is_udacity': True, 'is_canceled': True}\n",
      "{'account_key': '1304', 'status': 'canceled', 'join_date': datetime.datetime(2015, 3, 10, 0, 0), 'cancel_date': datetime.datetime(2015, 6, 17, 0, 0), 'days_to_cancel': 99, 'is_udacity': True, 'is_canceled': True}\n",
      "{'account_key': '1010', 'status': 'canceled', 'join_date': datetime.datetime(2015, 1, 11, 0, 0), 'cancel_date': datetime.datetime(2015, 1, 11, 0, 0), 'days_to_cancel': 0, 'is_udacity': False, 'is_canceled': True}\n",
      "{'account_key': '841', 'status': 'canceled', 'join_date': datetime.datetime(2014, 11, 12, 0, 0), 'cancel_date': datetime.datetime(2014, 11, 12, 0, 0), 'days_to_cancel': 0, 'is_udacity': False, 'is_canceled': True}\n",
      "{'account_key': '707', 'status': 'canceled', 'join_date': datetime.datetime(2014, 12, 3, 0, 0), 'cancel_date': datetime.datetime(2014, 12, 3, 0, 0), 'days_to_cancel': 0, 'is_udacity': False, 'is_canceled': True}\n",
      "{'account_key': '717', 'status': 'canceled', 'join_date': datetime.datetime(2014, 12, 4, 0, 0), 'cancel_date': datetime.datetime(2014, 12, 4, 0, 0), 'days_to_cancel': 0, 'is_udacity': False, 'is_canceled': True}\n",
      "{'account_key': '727', 'status': 'canceled', 'join_date': datetime.datetime(2014, 12, 7, 0, 0), 'cancel_date': datetime.datetime(2014, 12, 7, 0, 0), 'days_to_cancel': 0, 'is_udacity': False, 'is_canceled': True}\n",
      "{'account_key': '1273', 'status': 'canceled', 'join_date': datetime.datetime(2015, 1, 12, 0, 0), 'cancel_date': datetime.datetime(2015, 1, 12, 0, 0), 'days_to_cancel': 0, 'is_udacity': False, 'is_canceled': True}\n",
      "{'account_key': '1238', 'status': 'canceled', 'join_date': datetime.datetime(2014, 11, 10, 0, 0), 'cancel_date': datetime.datetime(2014, 11, 10, 0, 0), 'days_to_cancel': 0, 'is_udacity': False, 'is_canceled': True}\n",
      "{'account_key': '1044', 'status': 'canceled', 'join_date': datetime.datetime(2015, 2, 8, 0, 0), 'cancel_date': datetime.datetime(2015, 2, 8, 0, 0), 'days_to_cancel': 0, 'is_udacity': False, 'is_canceled': True}\n",
      "{'account_key': '749', 'status': 'canceled', 'join_date': datetime.datetime(2015, 3, 5, 0, 0), 'cancel_date': datetime.datetime(2015, 3, 5, 0, 0), 'days_to_cancel': 0, 'is_udacity': False, 'is_canceled': True}\n",
      "{'account_key': '1129', 'status': 'canceled', 'join_date': datetime.datetime(2015, 3, 7, 0, 0), 'cancel_date': datetime.datetime(2015, 3, 7, 0, 0), 'days_to_cancel': 0, 'is_udacity': False, 'is_canceled': True}\n",
      "{'account_key': '1129', 'status': 'canceled', 'join_date': datetime.datetime(2015, 2, 11, 0, 0), 'cancel_date': datetime.datetime(2015, 2, 11, 0, 0), 'days_to_cancel': 0, 'is_udacity': False, 'is_canceled': True}\n",
      "{'account_key': '926', 'status': 'canceled', 'join_date': datetime.datetime(2015, 4, 6, 0, 0), 'cancel_date': datetime.datetime(2015, 4, 6, 0, 0), 'days_to_cancel': 0, 'is_udacity': False, 'is_canceled': True}\n",
      "{'account_key': '711', 'status': 'canceled', 'join_date': datetime.datetime(2015, 5, 8, 0, 0), 'cancel_date': datetime.datetime(2015, 5, 8, 0, 0), 'days_to_cancel': 0, 'is_udacity': False, 'is_canceled': True}\n",
      "{'account_key': '803', 'status': 'canceled', 'join_date': datetime.datetime(2015, 1, 8, 0, 0), 'cancel_date': datetime.datetime(2015, 1, 8, 0, 0), 'days_to_cancel': 0, 'is_udacity': False, 'is_canceled': True}\n",
      "{'account_key': '799', 'status': 'canceled', 'join_date': datetime.datetime(2015, 2, 6, 0, 0), 'cancel_date': datetime.datetime(2015, 2, 6, 0, 0), 'days_to_cancel': 0, 'is_udacity': False, 'is_canceled': True}\n",
      "{'account_key': '789', 'status': 'canceled', 'join_date': datetime.datetime(2015, 2, 6, 0, 0), 'cancel_date': datetime.datetime(2015, 2, 6, 0, 0), 'days_to_cancel': 0, 'is_udacity': False, 'is_canceled': True}\n",
      "{'account_key': '819', 'status': 'canceled', 'join_date': datetime.datetime(2015, 3, 4, 0, 0), 'cancel_date': datetime.datetime(2015, 3, 4, 0, 0), 'days_to_cancel': 0, 'is_udacity': False, 'is_canceled': True}\n",
      "{'account_key': '819', 'status': 'canceled', 'join_date': datetime.datetime(2015, 3, 4, 0, 0), 'cancel_date': datetime.datetime(2015, 3, 4, 0, 0), 'days_to_cancel': 0, 'is_udacity': False, 'is_canceled': True}\n",
      "{'account_key': '902', 'status': 'canceled', 'join_date': datetime.datetime(2015, 5, 29, 0, 0), 'cancel_date': datetime.datetime(2015, 5, 29, 0, 0), 'days_to_cancel': 0, 'is_udacity': False, 'is_canceled': True}\n",
      "{'account_key': '996', 'status': 'canceled', 'join_date': datetime.datetime(2015, 5, 29, 0, 0), 'cancel_date': datetime.datetime(2015, 5, 29, 0, 0), 'days_to_cancel': 0, 'is_udacity': False, 'is_canceled': True}\n",
      "{'account_key': '1213', 'status': 'canceled', 'join_date': datetime.datetime(2015, 1, 12, 0, 0), 'cancel_date': datetime.datetime(2015, 1, 12, 0, 0), 'days_to_cancel': 0, 'is_udacity': False, 'is_canceled': True}\n",
      "{'account_key': '733', 'status': 'canceled', 'join_date': datetime.datetime(2015, 1, 12, 0, 0), 'cancel_date': datetime.datetime(2015, 1, 12, 0, 0), 'days_to_cancel': 0, 'is_udacity': False, 'is_canceled': True}\n",
      "{'account_key': '1237', 'status': 'canceled', 'join_date': datetime.datetime(2015, 5, 28, 0, 0), 'cancel_date': datetime.datetime(2015, 5, 28, 0, 0), 'days_to_cancel': 0, 'is_udacity': False, 'is_canceled': True}\n",
      "{'account_key': '1069', 'status': 'canceled', 'join_date': datetime.datetime(2015, 6, 1, 0, 0), 'cancel_date': datetime.datetime(2015, 6, 1, 0, 0), 'days_to_cancel': 0, 'is_udacity': True, 'is_canceled': True}\n",
      "{'account_key': '1086', 'status': 'canceled', 'join_date': datetime.datetime(2015, 6, 9, 0, 0), 'cancel_date': datetime.datetime(2015, 6, 9, 0, 0), 'days_to_cancel': 0, 'is_udacity': False, 'is_canceled': True}\n",
      "{'account_key': '1190', 'status': 'canceled', 'join_date': datetime.datetime(2015, 3, 6, 0, 0), 'cancel_date': datetime.datetime(2015, 3, 6, 0, 0), 'days_to_cancel': 0, 'is_udacity': False, 'is_canceled': True}\n",
      "{'account_key': '914', 'status': 'canceled', 'join_date': datetime.datetime(2015, 4, 2, 0, 0), 'cancel_date': datetime.datetime(2015, 4, 2, 0, 0), 'days_to_cancel': 0, 'is_udacity': False, 'is_canceled': True}\n",
      "{'account_key': '914', 'status': 'canceled', 'join_date': datetime.datetime(2015, 7, 17, 0, 0), 'cancel_date': datetime.datetime(2015, 7, 17, 0, 0), 'days_to_cancel': 0, 'is_udacity': False, 'is_canceled': True}\n",
      "{'account_key': '968', 'status': 'canceled', 'join_date': datetime.datetime(2015, 7, 17, 0, 0), 'cancel_date': datetime.datetime(2015, 7, 17, 0, 0), 'days_to_cancel': 0, 'is_udacity': False, 'is_canceled': True}\n",
      "{'account_key': '1155', 'status': 'canceled', 'join_date': datetime.datetime(2015, 7, 17, 0, 0), 'cancel_date': datetime.datetime(2015, 7, 17, 0, 0), 'days_to_cancel': 0, 'is_udacity': False, 'is_canceled': True}\n",
      "{'account_key': '766', 'status': 'canceled', 'join_date': datetime.datetime(2015, 5, 10, 0, 0), 'cancel_date': datetime.datetime(2015, 5, 10, 0, 0), 'days_to_cancel': 0, 'is_udacity': False, 'is_canceled': True}\n",
      "{'account_key': '739', 'status': 'canceled', 'join_date': datetime.datetime(2015, 4, 5, 0, 0), 'cancel_date': datetime.datetime(2015, 4, 5, 0, 0), 'days_to_cancel': 0, 'is_udacity': False, 'is_canceled': True}\n",
      "{'account_key': '1222', 'status': 'canceled', 'join_date': datetime.datetime(2015, 4, 7, 0, 0), 'cancel_date': datetime.datetime(2015, 4, 7, 0, 0), 'days_to_cancel': 0, 'is_udacity': False, 'is_canceled': True}\n",
      "{'account_key': '1125', 'status': 'canceled', 'join_date': datetime.datetime(2015, 5, 31, 0, 0), 'cancel_date': datetime.datetime(2015, 5, 31, 0, 0), 'days_to_cancel': 0, 'is_udacity': False, 'is_canceled': True}\n",
      "{'account_key': '1025', 'status': 'canceled', 'join_date': datetime.datetime(2015, 6, 7, 0, 0), 'cancel_date': datetime.datetime(2015, 6, 7, 0, 0), 'days_to_cancel': 0, 'is_udacity': False, 'is_canceled': True}\n",
      "{'account_key': '750', 'status': 'canceled', 'join_date': datetime.datetime(2015, 6, 6, 0, 0), 'cancel_date': datetime.datetime(2015, 6, 6, 0, 0), 'days_to_cancel': 0, 'is_udacity': False, 'is_canceled': True}\n",
      "{'account_key': '889', 'status': 'canceled', 'join_date': datetime.datetime(2015, 8, 11, 0, 0), 'cancel_date': datetime.datetime(2015, 8, 11, 0, 0), 'days_to_cancel': 0, 'is_udacity': False, 'is_canceled': True}\n",
      "{'account_key': '737', 'status': 'canceled', 'join_date': datetime.datetime(2014, 11, 10, 0, 0), 'cancel_date': datetime.datetime(2014, 11, 10, 0, 0), 'days_to_cancel': 0, 'is_udacity': False, 'is_canceled': True}\n",
      "{'account_key': '878', 'status': 'canceled', 'join_date': datetime.datetime(2014, 11, 10, 0, 0), 'cancel_date': datetime.datetime(2014, 11, 10, 0, 0), 'days_to_cancel': 0, 'is_udacity': False, 'is_canceled': True}\n",
      "{'account_key': '981', 'status': 'canceled', 'join_date': datetime.datetime(2015, 2, 7, 0, 0), 'cancel_date': datetime.datetime(2015, 2, 7, 0, 0), 'days_to_cancel': 0, 'is_udacity': False, 'is_canceled': True}\n",
      "{'account_key': '1101', 'status': 'current', 'join_date': datetime.datetime(2015, 2, 25, 0, 0), 'cancel_date': None, 'days_to_cancel': None, 'is_udacity': True, 'is_canceled': False}\n",
      "{'account_key': '1148', 'status': 'canceled', 'join_date': datetime.datetime(2015, 3, 9, 0, 0), 'cancel_date': datetime.datetime(2015, 3, 9, 0, 0), 'days_to_cancel': 0, 'is_udacity': False, 'is_canceled': True}\n",
      "{'account_key': '1186', 'status': 'canceled', 'join_date': datetime.datetime(2015, 3, 11, 0, 0), 'cancel_date': datetime.datetime(2015, 3, 11, 0, 0), 'days_to_cancel': 0, 'is_udacity': False, 'is_canceled': True}\n",
      "{'account_key': '725', 'status': 'canceled', 'join_date': datetime.datetime(2014, 12, 6, 0, 0), 'cancel_date': datetime.datetime(2014, 12, 6, 0, 0), 'days_to_cancel': 0, 'is_udacity': False, 'is_canceled': True}\n",
      "{'account_key': '1145', 'status': 'canceled', 'join_date': datetime.datetime(2015, 4, 4, 0, 0), 'cancel_date': datetime.datetime(2015, 4, 4, 0, 0), 'days_to_cancel': 0, 'is_udacity': False, 'is_canceled': True}\n",
      "{'account_key': '802', 'status': 'canceled', 'join_date': datetime.datetime(2015, 1, 8, 0, 0), 'cancel_date': datetime.datetime(2015, 1, 8, 0, 0), 'days_to_cancel': 0, 'is_udacity': False, 'is_canceled': True}\n",
      "{'account_key': '664', 'status': 'canceled', 'join_date': datetime.datetime(2015, 1, 8, 0, 0), 'cancel_date': datetime.datetime(2015, 1, 8, 0, 0), 'days_to_cancel': 0, 'is_udacity': False, 'is_canceled': True}\n",
      "{'account_key': '997', 'status': 'canceled', 'join_date': datetime.datetime(2015, 1, 12, 0, 0), 'cancel_date': datetime.datetime(2015, 1, 12, 0, 0), 'days_to_cancel': 0, 'is_udacity': False, 'is_canceled': True}\n",
      "{'account_key': '870', 'status': 'canceled', 'join_date': datetime.datetime(2015, 5, 12, 0, 0), 'cancel_date': datetime.datetime(2015, 5, 12, 0, 0), 'days_to_cancel': 0, 'is_udacity': False, 'is_canceled': True}\n",
      "{'account_key': '1284', 'status': 'canceled', 'join_date': datetime.datetime(2015, 1, 13, 0, 0), 'cancel_date': datetime.datetime(2015, 1, 13, 0, 0), 'days_to_cancel': 0, 'is_udacity': False, 'is_canceled': True}\n",
      "{'account_key': '1079', 'status': 'canceled', 'join_date': datetime.datetime(2015, 2, 9, 0, 0), 'cancel_date': datetime.datetime(2015, 2, 9, 0, 0), 'days_to_cancel': 0, 'is_udacity': False, 'is_canceled': True}\n",
      "{'account_key': '1063', 'status': 'canceled', 'join_date': datetime.datetime(2015, 7, 14, 0, 0), 'cancel_date': datetime.datetime(2015, 7, 14, 0, 0), 'days_to_cancel': 0, 'is_udacity': False, 'is_canceled': True}\n",
      "{'account_key': '1270', 'status': 'canceled', 'join_date': datetime.datetime(2015, 7, 20, 0, 0), 'cancel_date': datetime.datetime(2015, 7, 20, 0, 0), 'days_to_cancel': 0, 'is_udacity': False, 'is_canceled': True}\n",
      "{'account_key': '1291', 'status': 'canceled', 'join_date': datetime.datetime(2015, 6, 3, 0, 0), 'cancel_date': datetime.datetime(2015, 6, 3, 0, 0), 'days_to_cancel': 0, 'is_udacity': False, 'is_canceled': True}\n",
      "{'account_key': '1241', 'status': 'canceled', 'join_date': datetime.datetime(2015, 6, 9, 0, 0), 'cancel_date': datetime.datetime(2015, 6, 9, 0, 0), 'days_to_cancel': 0, 'is_udacity': False, 'is_canceled': True}\n"
     ]
    }
   ],
   "source": [
    "for enrollment in enrollments:\n",
    "    student = enrollment['account_key']\n",
    "    if student not in unique_engagement_students:\n",
    "        print (enrollment)\n",
    "##        break"
   ]
  },
  {
   "cell_type": "code",
   "execution_count": 23,
   "id": "5b07cf0e",
   "metadata": {},
   "outputs": [
    {
     "name": "stdout",
     "output_type": "stream",
     "text": [
      "{'account_key': '1304', 'status': 'canceled', 'join_date': datetime.datetime(2015, 1, 10, 0, 0), 'cancel_date': datetime.datetime(2015, 3, 10, 0, 0), 'days_to_cancel': 59, 'is_udacity': True, 'is_canceled': True}\n",
      "{'account_key': '1304', 'status': 'canceled', 'join_date': datetime.datetime(2015, 3, 10, 0, 0), 'cancel_date': datetime.datetime(2015, 6, 17, 0, 0), 'days_to_cancel': 99, 'is_udacity': True, 'is_canceled': True}\n",
      "{'account_key': '1101', 'status': 'current', 'join_date': datetime.datetime(2015, 2, 25, 0, 0), 'cancel_date': None, 'days_to_cancel': None, 'is_udacity': True, 'is_canceled': False}\n"
     ]
    },
    {
     "data": {
      "text/plain": [
       "3"
      ]
     },
     "execution_count": 23,
     "metadata": {},
     "output_type": "execute_result"
    }
   ],
   "source": [
    "num_problem_students = 0\n",
    "for enrollment in enrollments:\n",
    "    student = enrollment['account_key']\n",
    "    if (student not in unique_engagement_students and \n",
    "            enrollment['join_date'] != enrollment['cancel_date']):\n",
    "        print (enrollment)\n",
    "        num_problem_students += 1\n",
    "\n",
    "num_problem_students"
   ]
  },
  {
   "cell_type": "code",
   "execution_count": 24,
   "id": "9a25c619",
   "metadata": {},
   "outputs": [
    {
     "data": {
      "text/plain": [
       "6"
      ]
     },
     "execution_count": 24,
     "metadata": {},
     "output_type": "execute_result"
    }
   ],
   "source": [
    "udacitiy_test_accounts = set ()\n",
    "for enrollment in enrollments:\n",
    "    if enrollment ['is_udacity']:\n",
    "        udacitiy_test_accounts.add(enrollment['account_key'])\n",
    "len(udacitiy_test_accounts)"
   ]
  },
  {
   "cell_type": "code",
   "execution_count": 25,
   "id": "3649b8d0",
   "metadata": {},
   "outputs": [],
   "source": [
    "def remove_udacity_accounts(data):\n",
    "    non_udacity_data = []\n",
    "    for data_point in data:\n",
    "        if data_point ['account_key'] not in udacitiy_test_accounts:\n",
    "            non_udacity_data.append(data_point)\n",
    "    return non_udacity_data"
   ]
  },
  {
   "cell_type": "code",
   "execution_count": 26,
   "id": "859a1ffc",
   "metadata": {},
   "outputs": [],
   "source": [
    "non_udacity_enrollments = remove_udacity_accounts(enrollments)\n",
    "non_udacity_engagement = remove_udacity_accounts(daily_engagement)\n",
    "non_udacity_submissions = remove_udacity_accounts(project_submissions)"
   ]
  },
  {
   "cell_type": "code",
   "execution_count": 29,
   "id": "7a5079dd",
   "metadata": {},
   "outputs": [
    {
     "data": {
      "text/plain": [
       "1622"
      ]
     },
     "execution_count": 29,
     "metadata": {},
     "output_type": "execute_result"
    }
   ],
   "source": [
    "len (non_udacity_enrollments)"
   ]
  },
  {
   "cell_type": "code",
   "execution_count": 30,
   "id": "633a757e",
   "metadata": {},
   "outputs": [
    {
     "data": {
      "text/plain": [
       "135656"
      ]
     },
     "execution_count": 30,
     "metadata": {},
     "output_type": "execute_result"
    }
   ],
   "source": [
    "len (non_udacity_engagement)"
   ]
  },
  {
   "cell_type": "code",
   "execution_count": 31,
   "id": "ec50f4a9",
   "metadata": {},
   "outputs": [
    {
     "data": {
      "text/plain": [
       "3634"
      ]
     },
     "execution_count": 31,
     "metadata": {},
     "output_type": "execute_result"
    }
   ],
   "source": [
    "len (non_udacity_submissions)"
   ]
  },
  {
   "cell_type": "code",
   "execution_count": 32,
   "id": "0e8f179b",
   "metadata": {},
   "outputs": [
    {
     "data": {
      "text/plain": [
       "995"
      ]
     },
     "execution_count": 32,
     "metadata": {},
     "output_type": "execute_result"
    }
   ],
   "source": [
    "paid_students = {}\n",
    "for enrollment in non_udacity_enrollments:\n",
    "    if (not enrollment['is_canceled'] or\n",
    "            enrollment['days_to_cancel'] > 7):\n",
    "        account_key = enrollment['account_key']\n",
    "        enrollment_date = enrollment['join_date']\n",
    "        if (account_key not in paid_students or\n",
    "                enrollment_date > paid_students[account_key]):\n",
    "            paid_students[account_key] = enrollment_date\n",
    "len(paid_students)"
   ]
  },
  {
   "cell_type": "code",
   "execution_count": 34,
   "id": "8230d004",
   "metadata": {},
   "outputs": [
    {
     "data": {
      "text/plain": [
       "21508"
      ]
     },
     "execution_count": 34,
     "metadata": {},
     "output_type": "execute_result"
    }
   ],
   "source": [
    "def within_one_week(join_date, engagement_date):\n",
    "    time_delta = engagement_date - join_date\n",
    "    return time_delta.days < 7\n",
    "    \n",
    "def remove_free_trial_cancels(data):\n",
    "    new_data = []\n",
    "    for data_point in data:\n",
    "        if data_point['account_key'] in paid_students:\n",
    "            new_data.append(data_point)\n",
    "    return new_data\n",
    "    \n",
    "paid_enrollments = remove_free_trial_cancels(non_udacity_enrollments)\n",
    "paid_engagement = remove_free_trial_cancels(non_udacity_engagement)\n",
    "paid_submissions = remove_free_trial_cancels(non_udacity_submissions)\n",
    "    \n",
    "## print len(paid_enrollments)\n",
    "## print len(paid_engagement)\n",
    "## print len(paid_submissions)\n",
    "    \n",
    "paid_engagement_in_first_week = []\n",
    "for engagement_record in paid_engagement:\n",
    "    account_key = engagement_record['account_key']\n",
    "    join_date = paid_students[account_key]\n",
    "    engagement_record_date = engagement_record['utc_date']\n",
    "        \n",
    "    if within_one_week(join_date, engagement_record_date):\n",
    "         paid_engagement_in_first_week.append(engagement_record)\n",
    "    \n",
    "len(paid_engagement_in_first_week)"
   ]
  },
  {
   "cell_type": "code",
   "execution_count": 45,
   "id": "c2e1e380",
   "metadata": {},
   "outputs": [],
   "source": [
    "from collections import defaultdict"
   ]
  },
  {
   "cell_type": "code",
   "execution_count": 46,
   "id": "99ea6882",
   "metadata": {},
   "outputs": [],
   "source": [
    "engagement_by_account = defaultdict (list)\n",
    "for egagement_record in paid_engagement_in_first_week:\n",
    "    account_key = egagement_record ['account_key']\n",
    "    engagement_by_account[account_key].append(egagement_record)"
   ]
  },
  {
   "cell_type": "code",
   "execution_count": 47,
   "id": "d2dd5bf7",
   "metadata": {},
   "outputs": [],
   "source": [
    "total_minutes_by_account = {}\n",
    "\n",
    "for account_key, engagement_for_student in engagement_by_account.items():\n",
    "    total_minutes = 0\n",
    "    for egagement_record in engagement_for_student:\n",
    "        total_minutes += engagement_record['total_minutes_visited']\n",
    "    total_minutes_by_account[account_key] = total_minutes"
   ]
  },
  {
   "cell_type": "code",
   "execution_count": 65,
   "id": "63bf9d5a",
   "metadata": {},
   "outputs": [],
   "source": [
    "total_minutes = list (total_minutes_by_account.values())"
   ]
  },
  {
   "cell_type": "code",
   "execution_count": 66,
   "id": "71d2134f",
   "metadata": {},
   "outputs": [],
   "source": [
    "import numpy as np"
   ]
  },
  {
   "cell_type": "code",
   "execution_count": 67,
   "id": "e4582012",
   "metadata": {},
   "outputs": [
    {
     "name": "stdout",
     "output_type": "stream",
     "text": [
      "Mean: 647.5901738262695\n",
      "Standard Deviation: 1129.2712104188108\n",
      "Minimum: 0.0\n",
      "Maximum: 10568.100867332541\n"
     ]
    }
   ],
   "source": [
    "print ('Mean:', np.mean(total_minutes))\n",
    "print ('Standard Deviation:', np.std(total_minutes))\n",
    "print ('Minimum:', np.min(total_minutes))\n",
    "print ('Maximum:', np.max(total_minutes))"
   ]
  },
  {
   "cell_type": "code",
   "execution_count": 69,
   "id": "ef8c6c50",
   "metadata": {},
   "outputs": [
    {
     "name": "stdout",
     "output_type": "stream",
     "text": [
      "{'utc_date': datetime.datetime(2015, 1, 7, 0, 0), 'num_courses_visited': 1, 'total_minutes_visited': 50.9938951667, 'lessons_completed': 0, 'projects_completed': 0, 'account_key': '108'}\n",
      "{'utc_date': datetime.datetime(2015, 1, 8, 0, 0), 'num_courses_visited': 2, 'total_minutes_visited': 688.3034385, 'lessons_completed': 5, 'projects_completed': 0, 'account_key': '108'}\n",
      "{'utc_date': datetime.datetime(2015, 1, 9, 0, 0), 'num_courses_visited': 2, 'total_minutes_visited': 427.691757667, 'lessons_completed': 1, 'projects_completed': 0, 'account_key': '108'}\n",
      "{'utc_date': datetime.datetime(2015, 1, 10, 0, 0), 'num_courses_visited': 3, 'total_minutes_visited': 165.6270925, 'lessons_completed': 0, 'projects_completed': 0, 'account_key': '108'}\n",
      "{'utc_date': datetime.datetime(2015, 1, 11, 0, 0), 'num_courses_visited': 0, 'total_minutes_visited': 0.0, 'lessons_completed': 0, 'projects_completed': 0, 'account_key': '108'}\n",
      "{'utc_date': datetime.datetime(2015, 1, 12, 0, 0), 'num_courses_visited': 2, 'total_minutes_visited': 199.746703834, 'lessons_completed': 0, 'projects_completed': 0, 'account_key': '108'}\n",
      "{'utc_date': datetime.datetime(2015, 1, 13, 0, 0), 'num_courses_visited': 1, 'total_minutes_visited': 522.626804333, 'lessons_completed': 0, 'projects_completed': 0, 'account_key': '108'}\n",
      "{'utc_date': datetime.datetime(2015, 1, 14, 0, 0), 'num_courses_visited': 1, 'total_minutes_visited': 19.3757686667, 'lessons_completed': 0, 'projects_completed': 0, 'account_key': '108'}\n",
      "{'utc_date': datetime.datetime(2015, 1, 15, 0, 0), 'num_courses_visited': 1, 'total_minutes_visited': 159.846594, 'lessons_completed': 1, 'projects_completed': 0, 'account_key': '108'}\n",
      "{'utc_date': datetime.datetime(2015, 1, 16, 0, 0), 'num_courses_visited': 2, 'total_minutes_visited': 188.953028166, 'lessons_completed': 0, 'projects_completed': 0, 'account_key': '108'}\n",
      "{'utc_date': datetime.datetime(2015, 1, 17, 0, 0), 'num_courses_visited': 3, 'total_minutes_visited': 150.338208833, 'lessons_completed': 1, 'projects_completed': 0, 'account_key': '108'}\n",
      "{'utc_date': datetime.datetime(2015, 1, 18, 0, 0), 'num_courses_visited': 2, 'total_minutes_visited': 46.2042118333, 'lessons_completed': 0, 'projects_completed': 0, 'account_key': '108'}\n",
      "{'utc_date': datetime.datetime(2015, 1, 19, 0, 0), 'num_courses_visited': 0, 'total_minutes_visited': 0.0, 'lessons_completed': 0, 'projects_completed': 0, 'account_key': '108'}\n",
      "{'utc_date': datetime.datetime(2015, 1, 20, 0, 0), 'num_courses_visited': 0, 'total_minutes_visited': 0.0, 'lessons_completed': 0, 'projects_completed': 0, 'account_key': '108'}\n",
      "{'utc_date': datetime.datetime(2015, 1, 21, 0, 0), 'num_courses_visited': 0, 'total_minutes_visited': 0.0, 'lessons_completed': 0, 'projects_completed': 0, 'account_key': '108'}\n",
      "{'utc_date': datetime.datetime(2015, 1, 22, 0, 0), 'num_courses_visited': 2, 'total_minutes_visited': 31.7297723333, 'lessons_completed': 0, 'projects_completed': 0, 'account_key': '108'}\n",
      "{'utc_date': datetime.datetime(2015, 1, 23, 0, 0), 'num_courses_visited': 1, 'total_minutes_visited': 206.586538333, 'lessons_completed': 0, 'projects_completed': 0, 'account_key': '108'}\n",
      "{'utc_date': datetime.datetime(2015, 1, 24, 0, 0), 'num_courses_visited': 0, 'total_minutes_visited': 0.0, 'lessons_completed': 0, 'projects_completed': 0, 'account_key': '108'}\n",
      "{'utc_date': datetime.datetime(2015, 1, 25, 0, 0), 'num_courses_visited': 0, 'total_minutes_visited': 0.0, 'lessons_completed': 0, 'projects_completed': 0, 'account_key': '108'}\n",
      "{'utc_date': datetime.datetime(2015, 1, 26, 0, 0), 'num_courses_visited': 1, 'total_minutes_visited': 129.350111833, 'lessons_completed': 0, 'projects_completed': 0, 'account_key': '108'}\n",
      "{'utc_date': datetime.datetime(2015, 1, 27, 0, 0), 'num_courses_visited': 1, 'total_minutes_visited': 73.5691376667, 'lessons_completed': 0, 'projects_completed': 0, 'account_key': '108'}\n",
      "{'utc_date': datetime.datetime(2015, 1, 28, 0, 0), 'num_courses_visited': 0, 'total_minutes_visited': 0.0, 'lessons_completed': 0, 'projects_completed': 0, 'account_key': '108'}\n",
      "{'utc_date': datetime.datetime(2015, 1, 29, 0, 0), 'num_courses_visited': 1, 'total_minutes_visited': 271.0895865, 'lessons_completed': 0, 'projects_completed': 0, 'account_key': '108'}\n",
      "{'utc_date': datetime.datetime(2015, 1, 30, 0, 0), 'num_courses_visited': 1, 'total_minutes_visited': 432.252650333, 'lessons_completed': 1, 'projects_completed': 0, 'account_key': '108'}\n",
      "{'utc_date': datetime.datetime(2015, 1, 31, 0, 0), 'num_courses_visited': 1, 'total_minutes_visited': 196.13898, 'lessons_completed': 0, 'projects_completed': 0, 'account_key': '108'}\n",
      "{'utc_date': datetime.datetime(2015, 2, 1, 0, 0), 'num_courses_visited': 1, 'total_minutes_visited': 68.9915653333, 'lessons_completed': 0, 'projects_completed': 0, 'account_key': '108'}\n",
      "{'utc_date': datetime.datetime(2015, 2, 2, 0, 0), 'num_courses_visited': 2, 'total_minutes_visited': 86.3277713333, 'lessons_completed': 0, 'projects_completed': 0, 'account_key': '108'}\n",
      "{'utc_date': datetime.datetime(2015, 2, 3, 0, 0), 'num_courses_visited': 0, 'total_minutes_visited': 0.0, 'lessons_completed': 0, 'projects_completed': 0, 'account_key': '108'}\n",
      "{'utc_date': datetime.datetime(2015, 2, 4, 0, 0), 'num_courses_visited': 0, 'total_minutes_visited': 0.0, 'lessons_completed': 0, 'projects_completed': 0, 'account_key': '108'}\n",
      "{'utc_date': datetime.datetime(2015, 2, 5, 0, 0), 'num_courses_visited': 1, 'total_minutes_visited': 153.230525, 'lessons_completed': 0, 'projects_completed': 0, 'account_key': '108'}\n",
      "{'utc_date': datetime.datetime(2015, 2, 6, 0, 0), 'num_courses_visited': 0, 'total_minutes_visited': 0.0, 'lessons_completed': 0, 'projects_completed': 0, 'account_key': '108'}\n",
      "{'utc_date': datetime.datetime(2015, 2, 7, 0, 0), 'num_courses_visited': 0, 'total_minutes_visited': 0.0, 'lessons_completed': 0, 'projects_completed': 0, 'account_key': '108'}\n",
      "{'utc_date': datetime.datetime(2015, 2, 8, 0, 0), 'num_courses_visited': 0, 'total_minutes_visited': 0.0, 'lessons_completed': 0, 'projects_completed': 0, 'account_key': '108'}\n",
      "{'utc_date': datetime.datetime(2015, 2, 9, 0, 0), 'num_courses_visited': 1, 'total_minutes_visited': 16.687455, 'lessons_completed': 0, 'projects_completed': 0, 'account_key': '108'}\n",
      "{'utc_date': datetime.datetime(2015, 2, 10, 0, 0), 'num_courses_visited': 1, 'total_minutes_visited': 133.047518833, 'lessons_completed': 0, 'projects_completed': 0, 'account_key': '108'}\n",
      "{'utc_date': datetime.datetime(2015, 2, 11, 0, 0), 'num_courses_visited': 2, 'total_minutes_visited': 60.2176756667, 'lessons_completed': 0, 'projects_completed': 0, 'account_key': '108'}\n",
      "{'utc_date': datetime.datetime(2015, 2, 12, 0, 0), 'num_courses_visited': 3, 'total_minutes_visited': 160.438302667, 'lessons_completed': 0, 'projects_completed': 0, 'account_key': '108'}\n",
      "{'utc_date': datetime.datetime(2015, 2, 13, 0, 0), 'num_courses_visited': 2, 'total_minutes_visited': 506.220547, 'lessons_completed': 4, 'projects_completed': 0, 'account_key': '108'}\n",
      "{'utc_date': datetime.datetime(2015, 2, 14, 0, 0), 'num_courses_visited': 1, 'total_minutes_visited': 105.095858167, 'lessons_completed': 0, 'projects_completed': 0, 'account_key': '108'}\n",
      "{'utc_date': datetime.datetime(2015, 2, 15, 0, 0), 'num_courses_visited': 0, 'total_minutes_visited': 0.0, 'lessons_completed': 0, 'projects_completed': 0, 'account_key': '108'}\n",
      "{'utc_date': datetime.datetime(2015, 2, 16, 0, 0), 'num_courses_visited': 0, 'total_minutes_visited': 0.0, 'lessons_completed': 0, 'projects_completed': 0, 'account_key': '108'}\n",
      "{'utc_date': datetime.datetime(2015, 2, 17, 0, 0), 'num_courses_visited': 1, 'total_minutes_visited': 2.851689, 'lessons_completed': 0, 'projects_completed': 0, 'account_key': '108'}\n",
      "{'utc_date': datetime.datetime(2015, 2, 18, 0, 0), 'num_courses_visited': 1, 'total_minutes_visited': 10.9540768333, 'lessons_completed': 1, 'projects_completed': 0, 'account_key': '108'}\n",
      "{'utc_date': datetime.datetime(2015, 2, 19, 0, 0), 'num_courses_visited': 1, 'total_minutes_visited': 474.2906025, 'lessons_completed': 3, 'projects_completed': 0, 'account_key': '108'}\n",
      "{'utc_date': datetime.datetime(2015, 2, 20, 0, 0), 'num_courses_visited': 2, 'total_minutes_visited': 820.879483167, 'lessons_completed': 5, 'projects_completed': 0, 'account_key': '108'}\n",
      "{'utc_date': datetime.datetime(2015, 2, 21, 0, 0), 'num_courses_visited': 2, 'total_minutes_visited': 189.447189334, 'lessons_completed': 2, 'projects_completed': 0, 'account_key': '108'}\n",
      "{'utc_date': datetime.datetime(2015, 2, 22, 0, 0), 'num_courses_visited': 2, 'total_minutes_visited': 97.7356985, 'lessons_completed': 1, 'projects_completed': 0, 'account_key': '108'}\n",
      "{'utc_date': datetime.datetime(2015, 2, 23, 0, 0), 'num_courses_visited': 1, 'total_minutes_visited': 16.399642, 'lessons_completed': 0, 'projects_completed': 0, 'account_key': '108'}\n",
      "{'utc_date': datetime.datetime(2015, 2, 24, 0, 0), 'num_courses_visited': 0, 'total_minutes_visited': 0.0, 'lessons_completed': 0, 'projects_completed': 0, 'account_key': '108'}\n",
      "{'utc_date': datetime.datetime(2015, 2, 25, 0, 0), 'num_courses_visited': 0, 'total_minutes_visited': 0.0, 'lessons_completed': 0, 'projects_completed': 0, 'account_key': '108'}\n",
      "{'utc_date': datetime.datetime(2015, 2, 26, 0, 0), 'num_courses_visited': 0, 'total_minutes_visited': 0.0, 'lessons_completed': 0, 'projects_completed': 0, 'account_key': '108'}\n",
      "{'utc_date': datetime.datetime(2015, 2, 27, 0, 0), 'num_courses_visited': 0, 'total_minutes_visited': 0.0, 'lessons_completed': 0, 'projects_completed': 0, 'account_key': '108'}\n",
      "{'utc_date': datetime.datetime(2015, 2, 28, 0, 0), 'num_courses_visited': 0, 'total_minutes_visited': 0.0, 'lessons_completed': 0, 'projects_completed': 0, 'account_key': '108'}\n",
      "{'utc_date': datetime.datetime(2015, 3, 1, 0, 0), 'num_courses_visited': 0, 'total_minutes_visited': 0.0, 'lessons_completed': 0, 'projects_completed': 0, 'account_key': '108'}\n",
      "{'utc_date': datetime.datetime(2015, 3, 2, 0, 0), 'num_courses_visited': 0, 'total_minutes_visited': 0.0, 'lessons_completed': 0, 'projects_completed': 0, 'account_key': '108'}\n",
      "{'utc_date': datetime.datetime(2015, 3, 3, 0, 0), 'num_courses_visited': 0, 'total_minutes_visited': 0.0, 'lessons_completed': 0, 'projects_completed': 0, 'account_key': '108'}\n",
      "{'utc_date': datetime.datetime(2015, 3, 4, 0, 0), 'num_courses_visited': 1, 'total_minutes_visited': 2.0494365, 'lessons_completed': 0, 'projects_completed': 0, 'account_key': '108'}\n",
      "{'utc_date': datetime.datetime(2015, 3, 5, 0, 0), 'num_courses_visited': 0, 'total_minutes_visited': 0.0, 'lessons_completed': 0, 'projects_completed': 0, 'account_key': '108'}\n",
      "{'utc_date': datetime.datetime(2015, 3, 6, 0, 0), 'num_courses_visited': 2, 'total_minutes_visited': 431.799976167, 'lessons_completed': 2, 'projects_completed': 0, 'account_key': '108'}\n",
      "{'utc_date': datetime.datetime(2015, 3, 7, 0, 0), 'num_courses_visited': 1, 'total_minutes_visited': 119.514411833, 'lessons_completed': 1, 'projects_completed': 0, 'account_key': '108'}\n",
      "{'utc_date': datetime.datetime(2015, 3, 8, 0, 0), 'num_courses_visited': 1, 'total_minutes_visited': 164.2608825, 'lessons_completed': 1, 'projects_completed': 0, 'account_key': '108'}\n",
      "{'utc_date': datetime.datetime(2015, 3, 9, 0, 0), 'num_courses_visited': 2, 'total_minutes_visited': 179.749760666, 'lessons_completed': 0, 'projects_completed': 0, 'account_key': '108'}\n",
      "{'utc_date': datetime.datetime(2015, 3, 10, 0, 0), 'num_courses_visited': 0, 'total_minutes_visited': 0.0, 'lessons_completed': 0, 'projects_completed': 0, 'account_key': '108'}\n",
      "{'utc_date': datetime.datetime(2015, 3, 11, 0, 0), 'num_courses_visited': 0, 'total_minutes_visited': 0.0, 'lessons_completed': 0, 'projects_completed': 0, 'account_key': '108'}\n",
      "{'utc_date': datetime.datetime(2015, 3, 12, 0, 0), 'num_courses_visited': 1, 'total_minutes_visited': 10.787165, 'lessons_completed': 0, 'projects_completed': 0, 'account_key': '108'}\n",
      "{'utc_date': datetime.datetime(2015, 3, 13, 0, 0), 'num_courses_visited': 1, 'total_minutes_visited': 53.0065191667, 'lessons_completed': 0, 'projects_completed': 0, 'account_key': '108'}\n",
      "{'utc_date': datetime.datetime(2015, 3, 14, 0, 0), 'num_courses_visited': 1, 'total_minutes_visited': 203.048973667, 'lessons_completed': 1, 'projects_completed': 0, 'account_key': '108'}\n",
      "{'utc_date': datetime.datetime(2015, 3, 15, 0, 0), 'num_courses_visited': 1, 'total_minutes_visited': 51.2993831667, 'lessons_completed': 0, 'projects_completed': 0, 'account_key': '108'}\n",
      "{'utc_date': datetime.datetime(2015, 3, 16, 0, 0), 'num_courses_visited': 0, 'total_minutes_visited': 0.0, 'lessons_completed': 0, 'projects_completed': 0, 'account_key': '108'}\n",
      "{'utc_date': datetime.datetime(2015, 3, 17, 0, 0), 'num_courses_visited': 1, 'total_minutes_visited': 148.2304025, 'lessons_completed': 0, 'projects_completed': 0, 'account_key': '108'}\n",
      "{'utc_date': datetime.datetime(2015, 3, 18, 0, 0), 'num_courses_visited': 1, 'total_minutes_visited': 27.5826056667, 'lessons_completed': 0, 'projects_completed': 0, 'account_key': '108'}\n",
      "{'utc_date': datetime.datetime(2015, 3, 19, 0, 0), 'num_courses_visited': 0, 'total_minutes_visited': 0.0, 'lessons_completed': 0, 'projects_completed': 0, 'account_key': '108'}\n",
      "{'utc_date': datetime.datetime(2015, 3, 20, 0, 0), 'num_courses_visited': 0, 'total_minutes_visited': 0.0, 'lessons_completed': 0, 'projects_completed': 0, 'account_key': '108'}\n",
      "{'utc_date': datetime.datetime(2015, 3, 21, 0, 0), 'num_courses_visited': 1, 'total_minutes_visited': 14.4492643333, 'lessons_completed': 0, 'projects_completed': 0, 'account_key': '108'}\n",
      "{'utc_date': datetime.datetime(2015, 3, 22, 0, 0), 'num_courses_visited': 1, 'total_minutes_visited': 159.175812667, 'lessons_completed': 1, 'projects_completed': 0, 'account_key': '108'}\n",
      "{'utc_date': datetime.datetime(2015, 3, 23, 0, 0), 'num_courses_visited': 1, 'total_minutes_visited': 23.0641448333, 'lessons_completed': 0, 'projects_completed': 0, 'account_key': '108'}\n",
      "{'utc_date': datetime.datetime(2015, 3, 24, 0, 0), 'num_courses_visited': 2, 'total_minutes_visited': 327.687187333, 'lessons_completed': 3, 'projects_completed': 1, 'account_key': '108'}\n",
      "{'utc_date': datetime.datetime(2015, 3, 25, 0, 0), 'num_courses_visited': 1, 'total_minutes_visited': 210.324669, 'lessons_completed': 5, 'projects_completed': 0, 'account_key': '108'}\n",
      "{'utc_date': datetime.datetime(2015, 3, 26, 0, 0), 'num_courses_visited': 2, 'total_minutes_visited': 114.421496, 'lessons_completed': 0, 'projects_completed': 0, 'account_key': '108'}\n",
      "{'utc_date': datetime.datetime(2015, 3, 27, 0, 0), 'num_courses_visited': 1, 'total_minutes_visited': 85.2018686667, 'lessons_completed': 0, 'projects_completed': 0, 'account_key': '108'}\n",
      "{'utc_date': datetime.datetime(2015, 3, 28, 0, 0), 'num_courses_visited': 1, 'total_minutes_visited': 9.53501516667, 'lessons_completed': 0, 'projects_completed': 0, 'account_key': '108'}\n",
      "{'utc_date': datetime.datetime(2015, 3, 29, 0, 0), 'num_courses_visited': 0, 'total_minutes_visited': 0.0, 'lessons_completed': 0, 'projects_completed': 0, 'account_key': '108'}\n",
      "{'utc_date': datetime.datetime(2015, 3, 30, 0, 0), 'num_courses_visited': 0, 'total_minutes_visited': 0.0, 'lessons_completed': 0, 'projects_completed': 0, 'account_key': '108'}\n",
      "{'utc_date': datetime.datetime(2015, 3, 31, 0, 0), 'num_courses_visited': 0, 'total_minutes_visited': 0.0, 'lessons_completed': 0, 'projects_completed': 0, 'account_key': '108'}\n",
      "{'utc_date': datetime.datetime(2015, 4, 1, 0, 0), 'num_courses_visited': 3, 'total_minutes_visited': 147.569145833, 'lessons_completed': 0, 'projects_completed': 0, 'account_key': '108'}\n",
      "{'utc_date': datetime.datetime(2015, 4, 2, 0, 0), 'num_courses_visited': 3, 'total_minutes_visited': 77.2467501667, 'lessons_completed': 0, 'projects_completed': 0, 'account_key': '108'}\n",
      "{'utc_date': datetime.datetime(2015, 4, 3, 0, 0), 'num_courses_visited': 3, 'total_minutes_visited': 84.8263243333, 'lessons_completed': 0, 'projects_completed': 0, 'account_key': '108'}\n",
      "{'utc_date': datetime.datetime(2015, 4, 4, 0, 0), 'num_courses_visited': 0, 'total_minutes_visited': 0.0, 'lessons_completed': 0, 'projects_completed': 0, 'account_key': '108'}\n",
      "{'utc_date': datetime.datetime(2015, 4, 5, 0, 0), 'num_courses_visited': 0, 'total_minutes_visited': 0.0, 'lessons_completed': 0, 'projects_completed': 0, 'account_key': '108'}\n",
      "{'utc_date': datetime.datetime(2015, 4, 6, 0, 0), 'num_courses_visited': 2, 'total_minutes_visited': 32.9969003333, 'lessons_completed': 0, 'projects_completed': 0, 'account_key': '108'}\n",
      "{'utc_date': datetime.datetime(2015, 4, 7, 0, 0), 'num_courses_visited': 1, 'total_minutes_visited': 173.764699333, 'lessons_completed': 0, 'projects_completed': 0, 'account_key': '108'}\n",
      "{'utc_date': datetime.datetime(2015, 4, 8, 0, 0), 'num_courses_visited': 0, 'total_minutes_visited': 0.0, 'lessons_completed': 0, 'projects_completed': 0, 'account_key': '108'}\n",
      "{'utc_date': datetime.datetime(2015, 4, 9, 0, 0), 'num_courses_visited': 1, 'total_minutes_visited': 85.6887951667, 'lessons_completed': 0, 'projects_completed': 0, 'account_key': '108'}\n",
      "{'utc_date': datetime.datetime(2015, 4, 10, 0, 0), 'num_courses_visited': 2, 'total_minutes_visited': 72.4837255, 'lessons_completed': 0, 'projects_completed': 0, 'account_key': '108'}\n",
      "{'utc_date': datetime.datetime(2015, 4, 11, 0, 0), 'num_courses_visited': 0, 'total_minutes_visited': 0.0, 'lessons_completed': 0, 'projects_completed': 0, 'account_key': '108'}\n",
      "{'utc_date': datetime.datetime(2015, 4, 12, 0, 0), 'num_courses_visited': 0, 'total_minutes_visited': 0.0, 'lessons_completed': 0, 'projects_completed': 0, 'account_key': '108'}\n",
      "{'utc_date': datetime.datetime(2015, 4, 13, 0, 0), 'num_courses_visited': 0, 'total_minutes_visited': 0.0, 'lessons_completed': 0, 'projects_completed': 0, 'account_key': '108'}\n",
      "{'utc_date': datetime.datetime(2015, 4, 14, 0, 0), 'num_courses_visited': 1, 'total_minutes_visited': 36.9211676667, 'lessons_completed': 0, 'projects_completed': 0, 'account_key': '108'}\n",
      "{'utc_date': datetime.datetime(2015, 4, 15, 0, 0), 'num_courses_visited': 2, 'total_minutes_visited': 179.353473333, 'lessons_completed': 1, 'projects_completed': 0, 'account_key': '108'}\n",
      "{'utc_date': datetime.datetime(2015, 4, 16, 0, 0), 'num_courses_visited': 2, 'total_minutes_visited': 274.209734167, 'lessons_completed': 0, 'projects_completed': 0, 'account_key': '108'}\n",
      "{'utc_date': datetime.datetime(2015, 4, 17, 0, 0), 'num_courses_visited': 1, 'total_minutes_visited': 40.340405, 'lessons_completed': 0, 'projects_completed': 0, 'account_key': '108'}\n",
      "{'utc_date': datetime.datetime(2015, 4, 18, 0, 0), 'num_courses_visited': 0, 'total_minutes_visited': 0.0, 'lessons_completed': 0, 'projects_completed': 0, 'account_key': '108'}\n",
      "{'utc_date': datetime.datetime(2015, 4, 19, 0, 0), 'num_courses_visited': 0, 'total_minutes_visited': 0.0, 'lessons_completed': 0, 'projects_completed': 0, 'account_key': '108'}\n",
      "{'utc_date': datetime.datetime(2015, 4, 20, 0, 0), 'num_courses_visited': 2, 'total_minutes_visited': 25.9137858334, 'lessons_completed': 0, 'projects_completed': 0, 'account_key': '108'}\n",
      "{'utc_date': datetime.datetime(2015, 4, 21, 0, 0), 'num_courses_visited': 1, 'total_minutes_visited': 3.40682316667, 'lessons_completed': 0, 'projects_completed': 0, 'account_key': '108'}\n",
      "{'utc_date': datetime.datetime(2015, 4, 22, 0, 0), 'num_courses_visited': 2, 'total_minutes_visited': 99.1186611667, 'lessons_completed': 0, 'projects_completed': 0, 'account_key': '108'}\n",
      "{'utc_date': datetime.datetime(2015, 4, 23, 0, 0), 'num_courses_visited': 1, 'total_minutes_visited': 35.8316206667, 'lessons_completed': 0, 'projects_completed': 2, 'account_key': '108'}\n",
      "{'utc_date': datetime.datetime(2015, 4, 24, 0, 0), 'num_courses_visited': 0, 'total_minutes_visited': 0.0, 'lessons_completed': 0, 'projects_completed': 0, 'account_key': '108'}\n",
      "{'utc_date': datetime.datetime(2015, 4, 25, 0, 0), 'num_courses_visited': 0, 'total_minutes_visited': 0.0, 'lessons_completed': 0, 'projects_completed': 0, 'account_key': '108'}\n",
      "{'utc_date': datetime.datetime(2015, 4, 26, 0, 0), 'num_courses_visited': 0, 'total_minutes_visited': 0.0, 'lessons_completed': 0, 'projects_completed': 0, 'account_key': '108'}\n"
     ]
    }
   ],
   "source": [
    "student_with_max_minutes = None\n",
    "max_minutes = 0\n",
    "\n",
    "for student, total_minutes in total_minutes_by_account.items():\n",
    "    if total_minutes > max_minutes:\n",
    "        max_minutes = total_minutes\n",
    "        student_with_max_minutes = student\n",
    "        \n",
    "max_minutes\n",
    "\n",
    "for engagement_record in paid_engagement_in_first_week:\n",
    "    if engagement_record['account_key'] == student_with_max_minutes:\n",
    "        print (engagement_record)"
   ]
  },
  {
   "cell_type": "code",
   "execution_count": 70,
   "id": "4c4b0e87",
   "metadata": {},
   "outputs": [],
   "source": [
    "def within_one_week(join_date, engagement_date):\n",
    "    time_delta = engagement_date - join_date\n",
    "    return time_delta.days >= 0 and time_delta.days < 7"
   ]
  },
  {
   "cell_type": "code",
   "execution_count": 73,
   "id": "1aeb7256",
   "metadata": {},
   "outputs": [],
   "source": [
    "from collections import defaultdict\n",
    "\n",
    "def group_data(data, key_name):\n",
    "    grouped_data = defaultdict(list)\n",
    "    for data_point in data:\n",
    "        key = data_point[key_name]\n",
    "        grouped_data[key].append(data_point)\n",
    "    return grouped_data\n",
    "\n",
    "engagement_by_account = group_data(paid_engagement_in_first_week,\n",
    "                                   'account_key')\n",
    "\n",
    "def sum_grouped_items(grouped_data, field_name):\n",
    "    summed_data = {}\n",
    "    for key, data_points in grouped_data.items():\n",
    "        total = 0\n",
    "        for data_point in data_points:\n",
    "            total += data_point[field_name]\n",
    "        summed_data[key] = total\n",
    "    return summed_data\n",
    "\n",
    "total_minutes_by_account = sum_grouped_items(engagement_by_account,\n",
    "                                             'total_minutes_visited')"
   ]
  },
  {
   "cell_type": "code",
   "execution_count": 74,
   "id": "8f67edca",
   "metadata": {},
   "outputs": [],
   "source": [
    "total_minutes_by_account = list (total_minutes_by_account.values())"
   ]
  },
  {
   "cell_type": "code",
   "execution_count": 75,
   "id": "42dc72ad",
   "metadata": {},
   "outputs": [],
   "source": [
    "import numpy as np"
   ]
  },
  {
   "cell_type": "code",
   "execution_count": 78,
   "id": "b71cbb84",
   "metadata": {},
   "outputs": [],
   "source": [
    "def describe_data(data):\n",
    "    print ('Mean:', np.mean(data))\n",
    "    print ('Standard deviation:', np.std(data))\n",
    "    print ('Minimum:', np.min(data))\n",
    "    print ('Maximum:', np.max(data))"
   ]
  },
  {
   "cell_type": "code",
   "execution_count": 62,
   "id": "4a61ddad",
   "metadata": {},
   "outputs": [
    {
     "name": "stdout",
     "output_type": "stream",
     "text": [
      "Mean: 647.5901738262695\n",
      "Standard Deviation: 1129.2712104188108\n",
      "Minimum: 0.0\n",
      "Maximum: 10568.100867332541\n"
     ]
    }
   ],
   "source": [
    "print ('Mean:', np.mean(total_minutes))\n",
    "print ('Standard Deviation:', np.std(total_minutes))\n",
    "print ('Minimum:', np.min(total_minutes))\n",
    "print ('Maximum:', np.max(total_minutes))"
   ]
  },
  {
   "cell_type": "code",
   "execution_count": 80,
   "id": "d4416b27",
   "metadata": {},
   "outputs": [],
   "source": [
    "lessons_completed_by_account = sum_grouped_items(engagement_by_account,\n",
    "                                                 'lessons_completed')\n",
    "lessons_completed_by_account = list(lessons_completed_by_account.values())"
   ]
  },
  {
   "cell_type": "code",
   "execution_count": 82,
   "id": "aa3b01c9",
   "metadata": {},
   "outputs": [
    {
     "name": "stdout",
     "output_type": "stream",
     "text": [
      "Mean: 3.0924623115577887\n",
      "Standard deviation: 5.362768866632357\n",
      "Minimum: 0\n",
      "Maximum: 43\n"
     ]
    }
   ],
   "source": [
    "describe_data(lessons_completed_by_account)"
   ]
  },
  {
   "cell_type": "code",
   "execution_count": 83,
   "id": "8b3b6895",
   "metadata": {},
   "outputs": [],
   "source": [
    "for engagement_record in paid_engagement:\n",
    "    if engagement_record['num_courses_visited'] > 0:\n",
    "        engagement_record['has_visited'] = 1\n",
    "    else:\n",
    "        engagement_record['has_visited'] = 0"
   ]
  },
  {
   "cell_type": "code",
   "execution_count": 86,
   "id": "3a90bb30",
   "metadata": {},
   "outputs": [],
   "source": [
    "days_visited_by_account = sum_grouped_items(engagement_by_account,\n",
    "                                            'has_visited')"
   ]
  },
  {
   "cell_type": "code",
   "execution_count": 87,
   "id": "8a8954b6",
   "metadata": {},
   "outputs": [],
   "source": [
    "days_visited_by_account = list(days_visited_by_account.values())"
   ]
  },
  {
   "cell_type": "code",
   "execution_count": 88,
   "id": "a1b3d6e5",
   "metadata": {},
   "outputs": [
    {
     "name": "stdout",
     "output_type": "stream",
     "text": [
      "Mean: 6.896482412060301\n",
      "Standard deviation: 11.874398696797016\n",
      "Minimum: 0\n",
      "Maximum: 80\n"
     ]
    }
   ],
   "source": [
    "describe_data(days_visited_by_account)"
   ]
  },
  {
   "cell_type": "code",
   "execution_count": 91,
   "id": "2abce6d6",
   "metadata": {},
   "outputs": [
    {
     "name": "stdout",
     "output_type": "stream",
     "text": [
      "15231\n",
      "6277\n"
     ]
    }
   ],
   "source": [
    "subway_project_lesson_keys = ['746169184', '3176718735']\n",
    "\n",
    "pass_subway_project = set()\n",
    "\n",
    "for submission in paid_submissions:\n",
    "    project = submission['lesson_key']\n",
    "    rating = submission['assigned_rating']    \n",
    "\n",
    "    if ((project in subway_project_lesson_keys) and\n",
    "            (rating == 'PASSED' or rating == 'DISTINCTION')):\n",
    "        pass_subway_project.add(submission['account_key'])\n",
    "        \n",
    "len(pass_subway_project)\n",
    "\n",
    "passing_engagement = []\n",
    "non_passing_engagement = []\n",
    "\n",
    "for engagement_record in paid_engagement_in_first_week:\n",
    "    if engagement_record['account_key'] in pass_subway_project:\n",
    "        passing_engagement.append(engagement_record)\n",
    "    else:\n",
    "        non_passing_engagement.append(engagement_record)\n",
    "\n",
    "print (len(passing_engagement))\n",
    "print (len(non_passing_engagement))"
   ]
  },
  {
   "cell_type": "code",
   "execution_count": 103,
   "id": "0f49c990",
   "metadata": {},
   "outputs": [
    {
     "name": "stdout",
     "output_type": "stream",
     "text": [
      "Mean: 260.34690915994366\n",
      "Standard deviation: 531.6633740750846\n",
      "Minimum: 0.0\n",
      "Maximum: 4961.789169668999\n"
     ]
    }
   ],
   "source": [
    "passing_engagement_by_account = group_data(passing_engagement,\n",
    "                                           'account_key')\n",
    "non_passing_engagement_by_account = group_data(non_passing_engagement,\n",
    "                                               'account_key')\n",
    "\n",
    "\n",
    "\n",
    "non_passing_minutes = sum_grouped_items(\n",
    "    non_passing_engagement_by_account,\n",
    "    'total_minutes_visited'\n",
    ")\n",
    "\n",
    "describe_data(list (non_passing_minutes.values()))"
   ]
  },
  {
   "cell_type": "code",
   "execution_count": null,
   "id": "ab8c9fe1",
   "metadata": {},
   "outputs": [],
   "source": []
  }
 ],
 "metadata": {
  "kernelspec": {
   "display_name": "Python 3 (ipykernel)",
   "language": "python",
   "name": "python3"
  },
  "language_info": {
   "codemirror_mode": {
    "name": "ipython",
    "version": 3
   },
   "file_extension": ".py",
   "mimetype": "text/x-python",
   "name": "python",
   "nbconvert_exporter": "python",
   "pygments_lexer": "ipython3",
   "version": "3.9.13"
  }
 },
 "nbformat": 4,
 "nbformat_minor": 5
}
